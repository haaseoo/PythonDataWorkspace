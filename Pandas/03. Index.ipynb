{
 "cells": [
  {
   "cell_type": "markdown",
   "id": "21044ef7-b15b-4d70-9351-19d28d48d743",
   "metadata": {},
   "source": [
    "# 3. Index\n",
    "데이터에 접근할 수 있는 주소값"
   ]
  },
  {
   "cell_type": "code",
   "execution_count": 1,
   "id": "3afc5451-d145-43b3-b843-fe3378b96500",
   "metadata": {},
   "outputs": [
    {
     "data": {
      "text/plain": [
       "'유재석'"
      ]
     },
     "execution_count": 1,
     "metadata": {},
     "output_type": "execute_result"
    }
   ],
   "source": [
    "list = ['유재석', '하하']\n",
    "list[0]"
   ]
  },
  {
   "cell_type": "code",
   "execution_count": null,
   "id": "47b4fde9-dd01-4c07-a8d6-06f9916c7f41",
   "metadata": {},
   "outputs": [],
   "source": []
  }
 ],
 "metadata": {
  "kernelspec": {
   "display_name": "Python 3 (ipykernel)",
   "language": "python",
   "name": "python3"
  },
  "language_info": {
   "codemirror_mode": {
    "name": "ipython",
    "version": 3
   },
   "file_extension": ".py",
   "mimetype": "text/x-python",
   "name": "python",
   "nbconvert_exporter": "python",
   "pygments_lexer": "ipython3",
   "version": "3.11.7"
  }
 },
 "nbformat": 4,
 "nbformat_minor": 5
}
